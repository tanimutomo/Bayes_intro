{
 "cells": [
  {
   "cell_type": "code",
   "execution_count": 6,
   "metadata": {},
   "outputs": [],
   "source": [
    "%matplotlib inline\n",
    "import numpy as np\n",
    "import matplotlib.pyplot as plt\n",
    "from operator import itemgetter"
   ]
  },
  {
   "cell_type": "code",
   "execution_count": 7,
   "metadata": {},
   "outputs": [],
   "source": [
    "class SoftSVC:\n",
    "    def __init__(self, C=1.):\n",
    "        self.C = C\n",
    "        \n",
    "    def fit(self, X, y, selections=None):\n",
    "        a = np.zeros(X.shape[0])\n",
    "        ay = 0\n",
    "        ayx = np.zeros(X.shape[1])\n",
    "        yx = y.reshape(-1, 1)*X\n",
    "        indices = np.arange(X.shape[0])\n",
    "        while True:\n",
    "            # yt▽f(a)tを計算\n",
    "            ydf = y*(1 - np.dot(yx, ayx.T))\n",
    "            \n",
    "            # i, jを取り出す\n",
    "            iydf = np.c_[indices, ydf]\n",
    "            i = int(min(iydf[((a > 0) & (y > 0)) | \n",
    "                             ((a < self.C) & (y < 0))],\n",
    "                        key = itemgetter(1))[0])\n",
    "            j = int(max(iydf[((a > 0) & (y < 0)) | \n",
    "                             ((a < self.C) & (y > 0))],\n",
    "                        key = itemgetter(1))[0])\n",
    "\n",
    "            # iにおける最小値 > jにおける最大値の条件を満たしていたらiterationを終了する\n",
    "            if ydf[i] >= ydf[j]:\n",
    "                break\n",
    "            \n",
    "            # 効率よく計算するために，更新されたaの差分だけを計算している\n",
    "            ay2 = ay - y[i]*a[i] - y[j]*a[j]\n",
    "            ayx2 = ayx - y[i]*a[i]*X[i, :] - y[j]*a[j]*X[j, :]\n",
    "            \n",
    "            # 新しいaiを計算（a^i）\n",
    "            ai = ((1 - y[i]*y[j]\n",
    "                   + y[i]*np.dot(X[i, :] - X[j, :],\n",
    "                                 X[j, :]*ay2 - ayx2))\n",
    "                  / ((X[i] - X[j]) ** 2).sum())\n",
    "            \n",
    "            # ai < 0だったらai = 0が実質最適解\n",
    "            if ai < 0:\n",
    "                ai = 0\n",
    "            # ai > Cだったら ai = C が実質最適解\n",
    "            elif ai > self.C:\n",
    "                ai = self.C\n",
    "            aj = (-ai * y[i] - ay2) * y[j]\n",
    "            \n",
    "            # aj< 0だったらaj = 0が実質最適解\n",
    "            if aj < 0:\n",
    "                aj = 0\n",
    "                ai = (-aj * y[j] - ay2) * y[j]\n",
    "            # ai > Cだったら ai = C が実質最適解\n",
    "            elif aj > self.C:\n",
    "                aj = self.C\n",
    "                ai = (-aj * y[j] - ay2) * y[j]\n",
    "                \n",
    "            # 計算の効率化のために，ayとayxをi, jの変更による差分だけで更新\n",
    "            ay += y[i]*(ai - a[i]) + y[j]*(aj - a[j])\n",
    "            ayx += y[i]*(ai - a[i])*X[i, :] + y[j]*(aj - a[j])*X[j, :]\n",
    "            \n",
    "            # ai<0だったらai=0(ajも同様）にするのを繰り返し行うため，もしも前回と結果が一致していたらiterationを終了する\n",
    "            if ai == a[i]:\n",
    "                break\n",
    "            \n",
    "            a[i] = ai\n",
    "            a[j] = aj\n",
    "            \n",
    "        self.a_ = a\n",
    "        ind = a != 0.\n",
    "        self.w_ = ((a[ind] * y[ind]).reshape(-1, 1)\n",
    "                    * X[ind, :]).sum(axis=0)\n",
    "        self.w0_ = (y[ind]\n",
    "                    - np.dot(X[ind, :], self.w_)).sum() / ind.sum()\n",
    "        \n",
    "    def predict(self, X):\n",
    "        return np.sign(self.w0_ + np.dot(X, self.w_))"
   ]
  },
  {
   "cell_type": "code",
   "execution_count": 8,
   "metadata": {},
   "outputs": [],
   "source": [
    "def soft_classify(seed, num, dim=2):\n",
    "    plt.axes().set_aspect('equal')\n",
    "    \n",
    "    # create random data\n",
    "    np.random.seed(seed)\n",
    "    X0 = np.random.randn(num, dim)\n",
    "    X1 = np.random.randn(num, dim) + np.array([2.5 + 0.5*i for i in range(dim)])\n",
    "    y = np.array([1] * num + [-1] * num)\n",
    "    \n",
    "    X = np.r_[X0, X1]\n",
    "\n",
    "    # define the model\n",
    "    model = SoftSVC()\n",
    "    model.fit(X, y)\n",
    "    \n",
    "    # visualize the random data\n",
    "    if dim == 2:\n",
    "        plt.scatter(X0[:, 0], X0[:, 1], color='k', marker='+')\n",
    "        plt.scatter(X1[:, 0], X1[:, 1], color='k', marker='*')\n",
    "\n",
    "    def f(model, x):\n",
    "        return (-model.w0_ - model.w_[0] * x) / model.w_[1]\n",
    "    \n",
    "    x1 = -2\n",
    "    x2 = 4\n",
    "    \n",
    "    # 分類超平面を描画\n",
    "    plt.plot([x1, x2], [f(model, x1), f(model, x2)], color='k')\n",
    "    \n",
    "    print('The number of data which is classified correctly:', (model.predict(X) == y).sum())\n",
    "    \n",
    "    # aのなかの非ゼロ成分， すなわち対応するxがサポートベクタになるものに○をつける\n",
    "    plt.scatter(X[model.a_ != 0, 0], X[model.a_ != 0, 1],\n",
    "                s=200, color=(0, 0, 0, 0), edgecolor='k', marker='o')\n",
    "    \n",
    "    def f(model, xx):\n",
    "        return model.w0_ + np.dot(model.w_, xx)\n",
    "    \n",
    "    plt.show()"
   ]
  },
  {
   "cell_type": "code",
   "execution_count": 9,
   "metadata": {},
   "outputs": [
    {
     "name": "stdout",
     "output_type": "stream",
     "text": [
      "The number of data which is classified correctly: 38\n"
     ]
    },
    {
     "data": {
      "image/png": "[encoded data removed]",
      "text/plain": [
       "<Figure size 432x288 with 1 Axes>"
      ]
     },
     "metadata": {
      "needs_background": "light"
     },
     "output_type": "display_data"
    }
   ],
   "source": [
    "soft_classify(2, 20)"
   ]
  }
 ],
 "metadata": {
  "kernelspec": {
   "display_name": "Python 3",
   "language": "python",
   "name": "python3"
  },
  "language_info": {
   "codemirror_mode": {
    "name": "ipython",
    "version": 3
   },
   "file_extension": ".py",
   "mimetype": "text/x-python",
   "name": "python",
   "nbconvert_exporter": "python",
   "pygments_lexer": "ipython3",
   "version": "3.6.8"
  }
 },
 "nbformat": 4,
 "nbformat_minor": 2
}
