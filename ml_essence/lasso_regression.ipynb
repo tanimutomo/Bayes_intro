{
 "cells": [
  {
   "cell_type": "markdown",
   "metadata": {},
   "source": [
    "## Lasso Regression"
   ]
  },
  {
   "cell_type": "markdown",
   "metadata": {},
   "source": [
    "### lasso.py"
   ]
  },
  {
   "cell_type": "code",
   "execution_count": 3,
   "metadata": {},
   "outputs": [],
   "source": [
    "import numpy as np"
   ]
  },
  {
   "cell_type": "code",
   "execution_count": 4,
   "metadata": {},
   "outputs": [],
   "source": [
    "def soft_thresholding(x, y):\n",
    "    return np.sign(x) * max(abs(x) - y, 0)"
   ]
  },
  {
   "cell_type": "code",
   "execution_count": 12,
   "metadata": {},
   "outputs": [],
   "source": [
    "class Lasso:\n",
    "    def __init__(self, lambda_, tol=0.0001, max_iter=1000):\n",
    "        self.lambda_ = lambda_\n",
    "        self.tol = tol\n",
    "        self.max_iter = max_iter\n",
    "        self.w_ = None\n",
    "    \n",
    "    def fit(self, X, t):\n",
    "        n, d = X.shape\n",
    "        self.w_ = np.zeros(d + 1)\n",
    "        avgl1 = 0.\n",
    "        for _ in range(self.max_iter):\n",
    "            avgl1_prev = avgl1\n",
    "            self._update(n, d, X, t)\n",
    "            avgl1 = np.abs(self.w_).sum() / self.w_.shape[0]\n",
    "            if abs(avgl1 - avgl1_prev) <= self.tol:\n",
    "                break\n",
    "    def _update(self, n, d, X, t):\n",
    "        self.w_[0] = (t - np.dot(X, self.w_[1:])).sum() / n\n",
    "        w0vec = np.ones(n) * self.w_[0]\n",
    "        for k in range(d):\n",
    "            ww = self.w_[1:]\n",
    "            ww[k] = 0\n",
    "            q = np.dot(t - w0vec - np.dot(X, ww), X[:, k])\n",
    "            r = np.dot(X[:, k], X[:, k])\n",
    "            self.w_[k + 1] = soft_thresholding(q / r, self.lambda_)\n",
    "            \n",
    "    def predict(self, X):\n",
    "        if X.ndim == 1:\n",
    "            X = X.reshape(X.shape[0], 1)\n",
    "        Xtil = np.c_[np.ones(X.shape[0]), X]\n",
    "        return np.dot(Xtil, self.w_)"
   ]
  },
  {
   "cell_type": "markdown",
   "metadata": {},
   "source": [
    "### lasso_winequality1.py"
   ]
  },
  {
   "cell_type": "code",
   "execution_count": 13,
   "metadata": {},
   "outputs": [],
   "source": [
    "import csv"
   ]
  },
  {
   "cell_type": "code",
   "execution_count": 21,
   "metadata": {},
   "outputs": [
    {
     "name": "stdout",
     "output_type": "stream",
     "text": [
      "--- lambda = 100 ---:\n",
      "coefficients:\n",
      "[ 5.58430718  0.         -0.          0.          0.         -0.\n",
      "  0.         -0.         -0.         -0.          0.          0.        ]\n",
      "MSE: 0.691\n",
      "--- lambda = 1.0 ---:\n",
      "coefficients:\n",
      "[ 5.58430718  0.         -0.          0.          0.         -0.\n",
      "  0.         -0.         -0.         -0.          0.          0.        ]\n",
      "MSE: 0.691\n",
      "--- lambda = 0.1 ---:\n",
      "coefficients:\n",
      "[ 5.73493612  0.         -0.1407455   0.34369322 -0.         -2.00071813\n",
      "  0.         -0.         -0.          0.          0.          0.        ]\n",
      "MSE: 0.636\n",
      "--- lambda = 0.01 ---:\n",
      "coefficients:\n",
      "[ 5.71424724  0.         -1.01439751  0.00742223  0.         -3.34228417\n",
      "  0.         -0.          0.          0.          1.04248618  0.        ]\n",
      "MSE: 0.539\n",
      "--- lambda = 0.001 ---:\n",
      "coefficients:\n",
      "[ 4.47222921e+00  0.00000000e+00 -1.09737085e+00 -5.53370439e-02\n",
      "  0.00000000e+00 -3.02055910e+00  0.00000000e+00 -1.72208060e-05\n",
      "  7.72156072e-01  0.00000000e+00  1.08440304e+00  4.71376678e-02]\n",
      "MSE: 0.507\n",
      "--- lambda = 0.0001 ---:\n",
      "coefficients:\n",
      "[ 4.46915716  0.00577671 -0.96705387  0.0748722   0.01997373 -2.46062002\n",
      "  0.01575076 -0.00620018  0.62309637  0.00537761  0.9469129   0.04918305]\n",
      "MSE: 0.500\n",
      "--- lambda = 1e-05 ---:\n",
      "coefficients:\n",
      "[ 5.19111289e+00 -1.02236314e-03 -6.60082415e-01  4.92135676e-01\n",
      "  4.45280141e-02 -1.95620655e+00  2.09917347e-02 -8.04214121e-03\n",
      "  3.15632507e-01  6.03457152e-03  5.37107905e-01  4.89164148e-03]\n",
      "MSE: 0.548\n",
      "--- lambda = 0 ---:\n",
      "coefficients:\n",
      "[ 5.19110973e+00 -1.00393358e-03 -6.59221961e-01  4.93046612e-01\n",
      "  4.46056261e-02 -1.95826867e+00  2.11548986e-02 -8.11470019e-03\n",
      "  3.15727003e-01  6.11976543e-03  5.36604435e-01  4.88764142e-03]\n",
      "MSE: 0.548\n"
     ]
    }
   ],
   "source": [
    "Xy = []\n",
    "with open(\"./data/winequality-red.csv\") as fp:\n",
    "    for row in csv.reader(fp, delimiter=';'):\n",
    "        Xy.append(row)\n",
    "Xy = np.array(Xy[1:], dtype=np.float64)\n",
    "\n",
    "np.random.seed(0)\n",
    "np.random.shuffle(Xy)\n",
    "train_X = Xy[:-1000, :-1]\n",
    "train_y = Xy[:-1000, -1]\n",
    "test_X = Xy[-1000:, :-1]\n",
    "test_y = Xy[-1000:, -1]\n",
    "\n",
    "# ハイパーパラメータを変えながら学習させて結果表示\n",
    "for lambda_ in [100, 1., 0.1, 0.01, 0.001, 0.0001, 0.00001, 0]:\n",
    "    model = Lasso(lambda_)\n",
    "    model.fit(train_X, train_y)\n",
    "    y = model.predict(test_X)\n",
    "    print('--- lambda = {} ---:'.format(lambda_))\n",
    "    print('coefficients:')\n",
    "    print(model.w_)\n",
    "    mse = ((y - test_y)**2).mean()\n",
    "    print(\"MSE: {:.3f}\".format(mse))"
   ]
  }
 ],
 "metadata": {
  "kernelspec": {
   "display_name": "Python 3",
   "language": "python",
   "name": "python3"
  },
  "language_info": {
   "codemirror_mode": {
    "name": "ipython",
    "version": 3
   },
   "file_extension": ".py",
   "mimetype": "text/x-python",
   "name": "python",
   "nbconvert_exporter": "python",
   "pygments_lexer": "ipython3",
   "version": "3.6.8"
  }
 },
 "nbformat": 4,
 "nbformat_minor": 2
}
