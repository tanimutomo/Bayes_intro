{
 "cells": [
  {
   "cell_type": "markdown",
   "metadata": {},
   "source": [
    "# Logistic Regression"
   ]
  },
  {
   "cell_type": "markdown",
   "metadata": {},
   "source": [
    "### loginsticreg.py"
   ]
  },
  {
   "cell_type": "code",
   "execution_count": 10,
   "metadata": {},
   "outputs": [],
   "source": [
    "import csv\n",
    "import numpy as np\n",
    "from scipy import linalg"
   ]
  },
  {
   "cell_type": "code",
   "execution_count": 11,
   "metadata": {},
   "outputs": [],
   "source": [
    "THRESHMIN = 1e-10"
   ]
  },
  {
   "cell_type": "code",
   "execution_count": 12,
   "metadata": {},
   "outputs": [],
   "source": [
    "def sigmoid(x):\n",
    "    return 1 / (1 + np.exp(-x))"
   ]
  },
  {
   "cell_type": "code",
   "execution_count": 16,
   "metadata": {},
   "outputs": [],
   "source": [
    "class LogisticRegression:\n",
    "    def __init__(self, tol=0.001, max_iter=3, random_seed=0):\n",
    "        self.tol = tol\n",
    "        self.max_iter = max_iter\n",
    "        self.random_state = np.random.RandomState(random_seed)\n",
    "        self.w_ = None\n",
    "        \n",
    "    def fit(self, X, y):\n",
    "        self.w_ = self.random_state.randn(X.shape[1] + 1)\n",
    "        Xtil = np.c_[np.ones(X.shape[0]), X]\n",
    "        diff = np.inf\n",
    "        w_prev = self.w_\n",
    "        iter = 0\n",
    "        while diff > self.tol and iter < self.max_iter:\n",
    "            yhat = sigmoid(np.dot(Xtil, self.w_))\n",
    "            r = np.clip(yhat * (1 - yhat), THRESHMIN, np.inf)\n",
    "            XR = Xtil.T * r\n",
    "            XRX = np.dot(Xtil.T * r, Xtil)\n",
    "            w_prev = self.w_\n",
    "            b = np.dot(XR, np.dot(Xtil, self.w_) - 1 / r * (yhat - y))\n",
    "            self.w_ = linalg.solve(XRX, b)\n",
    "            diff = abs(w_prev - self.w_).mean()\n",
    "            iter += 1\n",
    "            \n",
    "    def predict(self, X):\n",
    "        Xtil = np.c_[np.ones(X.shape[0]), X]\n",
    "        yhat = sigmoid(np.dot(Xtil, self.w_))\n",
    "        return np.where(yhat > .5, 1, 0)"
   ]
  },
  {
   "cell_type": "markdown",
   "metadata": {},
   "source": [
    "### logisticreg_wdbc.py"
   ]
  },
  {
   "cell_type": "code",
   "execution_count": 17,
   "metadata": {},
   "outputs": [
    {
     "name": "stdout",
     "output_type": "stream",
     "text": [
      "Accuracy: 97/100 = 0.97\n"
     ]
    }
   ],
   "source": [
    "n_test = 100\n",
    "X = []\n",
    "y = []\n",
    "with open('./data/wdbc.data') as fp:\n",
    "    for row in csv.reader(fp):\n",
    "        if row[1] == 'B':\n",
    "            y.append(0)\n",
    "        else:\n",
    "            y.append(1)\n",
    "        X.append(row[2:])\n",
    "        \n",
    "y = np.array(y, dtype=np.float64)\n",
    "X = np.array(X, dtype=np.float64)\n",
    "y_train = y[:-n_test]\n",
    "X_train = X[:-n_test]\n",
    "y_test = y[-n_test:]\n",
    "X_test = X[-n_test:]\n",
    "model = LogisticRegression(tol=0.01)\n",
    "model.fit(X_train, y_train)\n",
    "\n",
    "y_predict = model.predict(X_test)\n",
    "n_hits = (y_test == y_predict).sum()\n",
    "print(\"Accuracy: {}/{} = {}\".format(n_hits, n_test, n_hits / n_test))"
   ]
  },
  {
   "cell_type": "code",
   "execution_count": null,
   "metadata": {},
   "outputs": [],
   "source": []
  }
 ],
 "metadata": {
  "kernelspec": {
   "display_name": "Python 3",
   "language": "python",
   "name": "python3"
  },
  "language_info": {
   "codemirror_mode": {
    "name": "ipython",
    "version": 3
   },
   "file_extension": ".py",
   "mimetype": "text/x-python",
   "name": "python",
   "nbconvert_exporter": "python",
   "pygments_lexer": "ipython3",
   "version": "3.6.8"
  }
 },
 "nbformat": 4,
 "nbformat_minor": 2
}
