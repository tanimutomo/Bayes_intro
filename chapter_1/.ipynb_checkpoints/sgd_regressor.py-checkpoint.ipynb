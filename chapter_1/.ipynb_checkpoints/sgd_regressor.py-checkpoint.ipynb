{
 "cells": [
  {
   "cell_type": "code",
   "execution_count": 1,
   "metadata": {
    "collapsed": false
   },
   "outputs": [
    {
     "name": "stderr",
     "output_type": "stream",
     "text": [
      "/Users/tomo/.pyenv/versions/anaconda3-4.2.0/lib/python3.5/site-packages/matplotlib/font_manager.py:280: UserWarning: Matplotlib is building the font cache using fc-list. This may take a moment.\n",
      "  'Matplotlib is building the font cache using fc-list. '\n",
      "/Users/tomo/.pyenv/versions/anaconda3-4.2.0/lib/python3.5/site-packages/sklearn/cross_validation.py:41: DeprecationWarning: This module was deprecated in version 0.18 in favor of the model_selection module into which all the refactored classes and functions are moved. Also note that the interface of the new CV iterators are different from that of this module. This module will be removed in 0.20.\n",
      "  \"This module will be removed in 0.20.\", DeprecationWarning)\n"
     ]
    },
    {
     "data": {
      "text/plain": [
       "'0.19.1'"
      ]
     },
     "execution_count": 1,
     "metadata": {},
     "output_type": "execute_result"
    }
   ],
   "source": [
    "# ライブラリのインポート\n",
    "import numpy as np\n",
    "import pandas as pd\n",
    "import matplotlib.pyplot as plt\n",
    "from sklearn import cross_validation, preprocessing, linear_model\n",
    "import sklearn\n",
    "sklearn.__version__"
   ]
  },
  {
   "cell_type": "code",
   "execution_count": 3,
   "metadata": {
    "collapsed": false
   },
   "outputs": [],
   "source": [
    "# Housing のデータセットを読み込む\n",
    "df = pd.read_csv('https://archive.ics.uci.edu/ml/machine-learning-databases/housing/housing.data', header=None, sep='\\s+')\n",
    "df.columns=['CRIM','ZN', 'INDUS', 'CHAS', 'NOX', 'RM', 'AGE', 'DIS', 'RAD', 'TAX', 'PTRATIO', 'B', 'LSTAT', 'MEDV']\n",
    "X_rm = df[['RM']].values\n",
    "X = df.iloc[:, 0:13]\n",
    "Y = df['MEDV'].values"
   ]
  },
  {
   "cell_type": "code",
   "execution_count": 4,
   "metadata": {
    "collapsed": true
   },
   "outputs": [],
   "source": [
    "# データの整形\n",
    "sc = preprocessing.StandardScaler()\n",
    "sc.fit(X)\n",
    "X = sc.transform(X)\n",
    "sc.fit(X_rm)\n",
    "X_rm = sc.transform(X_rm)"
   ]
  },
  {
   "cell_type": "code",
   "execution_count": 6,
   "metadata": {
    "collapsed": false
   },
   "outputs": [],
   "source": [
    "# 学習データとテストデータに分割する\n",
    "X_train, X_test, Y_train, Y_test = cross_validation.train_test_split(X, Y, test_size=0.2, random_state=0)\n",
    "X_rm_train, X_rm_test, Y_train, Y_test = cross_validation.train_test_split(X_rm, Y, test_size=0.2, random_state=0)"
   ]
  },
  {
   "cell_type": "code",
   "execution_count": 8,
   "metadata": {
    "collapsed": false
   },
   "outputs": [
    {
     "name": "stdout",
     "output_type": "stream",
     "text": [
      "全部使用した時の回帰係数\n",
      "[ 22.48170107]\n",
      "[-1.0360691   1.05356147  0.02549889  0.59133712 -1.88122583  2.60544722\n",
      " -0.09561024 -2.90783383  2.10922602 -1.86238575 -2.2742117   0.74884248\n",
      " -3.52282454]\n"
     ]
    }
   ],
   "source": [
    "# SGD Regressorを適用する\n",
    "clf = linear_model.SGDRegressor(max_iter=1000)\n",
    "clf.fit(X_train, Y_train)\n",
    "\n",
    "clf_rm = linear_model.SGDRegressor(max_iter=1000)\n",
    "clf_rm.fit(X_rm_train, Y_train)\n",
    "\n",
    "print(\"全部使用した時の回帰係数\")\n",
    "print(clf.intercept_)\n",
    "print(clf.coef_)"
   ]
  },
  {
   "cell_type": "code",
   "execution_count": 10,
   "metadata": {
    "collapsed": false
   },
   "outputs": [
    {
     "data": {
      "text/plain": [
       "<function matplotlib.pyplot.show>"
      ]
     },
     "execution_count": 10,
     "metadata": {},
     "output_type": "execute_result"
    },
    {
     "data": {
      "image/png": "[encoded data removed]",
      "text/plain": [
       "<matplotlib.figure.Figure at 0x1a164c8438>"
      ]
     },
     "metadata": {},
     "output_type": "display_data"
    }
   ],
   "source": [
    "# 結果をプロットする\n",
    "%matplotlib inline\n",
    "\n",
    "line_X = np.arange(-4, 4, 0.1)\n",
    "line_Y = clf_rm.predict(line_X[:, np.newaxis])\n",
    "plt.figure(figsize=(10,10))\n",
    "plt.subplot(2,1,1)\n",
    "plt.scatter(X_rm_train, Y_train, c='b', marker='s')\n",
    "plt.plot(line_X, line_Y, c='r')\n",
    "plt.show"
   ]
  },
  {
   "cell_type": "code",
   "execution_count": 12,
   "metadata": {
    "collapsed": false
   },
   "outputs": [
    {
     "name": "stdout",
     "output_type": "stream",
     "text": [
      "\n",
      "「RMだけの平均2乗誤差」と「全部を使用した時の平均二乗誤差」\n",
      "46.9037482764\n",
      "33.7204681864\n"
     ]
    },
    {
     "data": {
      "image/png": "[encoded data removed]",
      "text/plain": [
       "<matplotlib.figure.Figure at 0x1a20447160>"
      ]
     },
     "metadata": {},
     "output_type": "display_data"
    }
   ],
   "source": [
    "# 誤差をプロットする\n",
    "Y_rm_pred = clf_rm.predict(X_rm_test)\n",
    "plt.subplot(2,1,2)\n",
    "plt.scatter(Y_test, Y_rm_pred-Y_test, c='b', marker='s', label=\"RM_only\")\n",
    "\n",
    "Y_pred = clf.predict(X_test)\n",
    "plt.scatter(Y_test, Y_pred-Y_test, c='r', marker='s', label=\"ALL\")\n",
    "plt.legend()\n",
    "plt.hlines(y=0, xmin=0, xmax=50, colors='black')\n",
    "plt.show\n",
    "\n",
    "print(\"\\n「RMだけの平均2乗誤差」と「全部を使用した時の平均二乗誤差」\")\n",
    "RMS = np.mean((Y_pred - Y_test) ** 2)\n",
    "RMS_rm = np.mean((Y_rm_pred - Y_test) ** 2)\n",
    "print(RMS_rm)\n",
    "print(RMS)"
   ]
  },
  {
   "cell_type": "code",
   "execution_count": null,
   "metadata": {
    "collapsed": true
   },
   "outputs": [],
   "source": []
  }
 ],
 "metadata": {
  "kernelspec": {
   "display_name": "Python [conda env:anaconda3-4.2.0]",
   "language": "python",
   "name": "conda-env-anaconda3-4.2.0-py"
  },
  "language_info": {
   "codemirror_mode": {
    "name": "ipython",
    "version": 3
   },
   "file_extension": ".py",
   "mimetype": "text/x-python",
   "name": "python",
   "nbconvert_exporter": "python",
   "pygments_lexer": "ipython3",
   "version": "3.5.2"
  }
 },
 "nbformat": 4,
 "nbformat_minor": 1
}
