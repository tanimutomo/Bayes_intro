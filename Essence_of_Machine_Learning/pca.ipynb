{
 "cells": [
  {
   "cell_type": "code",
   "execution_count": 4,
   "metadata": {},
   "outputs": [],
   "source": [
    "%matplotlib inline\n",
    "import csv\n",
    "import numpy as np\n",
    "import matplotlib.pyplot as plt\n",
    "from scipy.sparse.linalg import svds"
   ]
  },
  {
   "cell_type": "code",
   "execution_count": 5,
   "metadata": {},
   "outputs": [],
   "source": [
    "class PCA:\n",
    "    def __init__(self, n_components, tol=0.0, random_seed=0):\n",
    "        # 圧縮後の次元数\n",
    "        self.n_components = n_components\n",
    "        # SVDの計算誤差の許容範囲を指定\n",
    "        self.tol = tol\n",
    "        # アルゴリズム内でのみseedを固定する\n",
    "        self.random_state_ = np.random.RandomState(random_seed)\n",
    "        \n",
    "    def fit(self, X):\n",
    "        # ｓcipyのSVDを計算する際に入力しなければならない初期値\n",
    "        v0 = self.random_state_.randn(min(X.shape))\n",
    "        xbar = X.mean(axis=0)\n",
    "        Y = X - xbar\n",
    "        S = np.dot(Y.T, Y)\n",
    "        U, Sigma, VT = svds(S, k=self.n_components, tol=self.tol, v0=v0)\n",
    "        self.VT_ = VT[::-1, :]\n",
    "        \n",
    "    def transform(self, X):\n",
    "        return self.VT_.dot(X.T).T"
   ]
  },
  {
   "cell_type": "code",
   "execution_count": 8,
   "metadata": {},
   "outputs": [
    {
     "name": "stdout",
     "output_type": "stream",
     "text": [
      "Compress (1599, 11) to (1599, 2)\n"
     ]
    },
    {
     "data": {
      "image/png": "[encoded data removed]",
      "text/plain": [
       "<Figure size 432x288 with 1 Axes>"
      ]
     },
     "metadata": {
      "needs_background": "light"
     },
     "output_type": "display_data"
    }
   ],
   "source": [
    "# Loading Data\n",
    "Xy = []\n",
    "with open('data/winequality-red.csv') as fp:\n",
    "    for row in csv.reader(fp, delimiter=\";\"):\n",
    "        Xy.append(row)\n",
    "Xy = np.array(Xy[1:], dtype=np.float64)\n",
    "X = Xy[:, :-1]\n",
    "\n",
    "# Training\n",
    "model = PCA(n_components=2)\n",
    "model.fit(X)\n",
    "\n",
    "# transform\n",
    "Y = model.transform(X)\n",
    "\n",
    "# visalization\n",
    "print('Compress {} to {}'.format(X.shape, Y.shape))\n",
    "plt.scatter(Y[:, 0], Y[:, 1], color='k')\n",
    "plt.show()"
   ]
  }
 ],
 "metadata": {
  "kernelspec": {
   "display_name": "Python 3",
   "language": "python",
   "name": "python3"
  },
  "language_info": {
   "codemirror_mode": {
    "name": "ipython",
    "version": 3
   },
   "file_extension": ".py",
   "mimetype": "text/x-python",
   "name": "python",
   "nbconvert_exporter": "python",
   "pygments_lexer": "ipython3",
   "version": "3.6.8"
  }
 },
 "nbformat": 4,
 "nbformat_minor": 2
}
