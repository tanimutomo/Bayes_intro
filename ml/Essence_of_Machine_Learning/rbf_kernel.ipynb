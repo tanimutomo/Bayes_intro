{
 "cells": [
  {
   "cell_type": "code",
   "execution_count": 7,
   "metadata": {},
   "outputs": [],
   "source": [
    "import numpy as np\n",
    "import matplotlib.pyplot as plt\n",
    "from operator import itemgetter"
   ]
  },
  {
   "cell_type": "code",
   "execution_count": 12,
   "metadata": {},
   "outputs": [],
   "source": [
    "class RBFKernel:\n",
    "    def __init__(self, X, sigma):\n",
    "        self.sigma2 = sigma**2\n",
    "        self.X = X\n",
    "        self.values_ = np.empty((X.shape[0], X.shape[0]))\n",
    "        \n",
    "    def value(self, i, j):\n",
    "        return np.exp(-((self.X[i, :] - self.X[j, :])**2).sum()\n",
    "                      / (2 * self.sigma2))\n",
    "    \n",
    "    def eval(self, Z, s):\n",
    "        return np.exp(-((self.X[s, np.newaxis, :]\n",
    "                         - Z[np.newaxis, :, :])**2).sum(axis=2)\n",
    "                      / (2*self.sigma2))                      "
   ]
  },
  {
   "cell_type": "code",
   "execution_count": 13,
   "metadata": {},
   "outputs": [],
   "source": [
    "class KernelSVC:\n",
    "    def __init__(self, C=1., sigma=1., max_iter=10000):\n",
    "        self.C = C\n",
    "        self.sigma = sigma\n",
    "        self.max_iter = max_iter\n",
    "        \n",
    "    def fit(self, X, y, selections=None):\n",
    "        a = np.zeros(X.shape[0])\n",
    "        ay = 0\n",
    "        kernel = RBFKernel(X, self.sigma)\n",
    "        indices = np.arange(X.shape[0])\n",
    "        for _ in range(self.max_iter):\n",
    "            s = a != 0.\n",
    "            ydf = y * (1 - y * np.dot(a[s]*y[s],\n",
    "                                      kernel.eval(X, s)).T)\n",
    "            iydf = np.c_[indices, ydf]\n",
    "            \n",
    "            # i, jを取り出す\n",
    "            iydf = np.c_[indices, ydf]\n",
    "            i = int(min(iydf[((a > 0) & (y > 0)) | \n",
    "                             ((a < self.C) & (y < 0))],\n",
    "                        key = itemgetter(1))[0])\n",
    "            j = int(max(iydf[((a > 0) & (y < 0)) | \n",
    "                             ((a < self.C) & (y > 0))],\n",
    "                        key = itemgetter(1))[0])\n",
    "\n",
    "            # iにおける最小値 > jにおける最大値の条件を満たしていたらiterationを終了する\n",
    "            if ydf[i] >= ydf[j]:\n",
    "                break\n",
    "            \n",
    "            # 効率よく計算するために，更新されたaの差分だけを計算している\n",
    "            ay2 = ay - y[i]*a[i] - y[j]*a[j]\n",
    "            \n",
    "            # kernel関数の計算（本来これは毎iterationで計算する必要はない）\n",
    "            kii = kernel.value(i, i)\n",
    "            kij = kernel.value(i, j)\n",
    "            kjj = kernel.value(j, j)\n",
    "            \n",
    "            s = a != 0.\n",
    "            s[i] = False\n",
    "            s[j] = False\n",
    "            \n",
    "            kxi = kernel.eval(X[i, :].reshape(1, -1), s).ravel()\n",
    "            kxj = kernel.eval(X[j, :].reshape(1, -1), s).ravel()\n",
    "            \n",
    "            ai = ((1 - y[i]*y[j]\n",
    "                   + y[i]*((kij - kjj)*ay2\n",
    "                           - (a[s]*y[s]*(kxi-kxj)).sum()))\n",
    "                   / (kii + kjj - 2*kij))\n",
    "\n",
    "            # ai < 0だったらai = 0が実質最適解\n",
    "            if ai < 0:\n",
    "                ai = 0\n",
    "            # ai > Cだったら ai = C が実質最適解\n",
    "            elif ai > self.C:\n",
    "                ai = self.C\n",
    "            aj = (-ai * y[i] - ay2) * y[j]\n",
    "            \n",
    "            # aj< 0だったらaj = 0が実質最適解\n",
    "            if aj < 0:\n",
    "                aj = 0\n",
    "                ai = (-aj * y[j] - ay2) * y[j]\n",
    "            # ai > Cだったら ai = C が実質最適解\n",
    "            elif aj > self.C:\n",
    "                aj = self.C\n",
    "                ai = (-aj * y[j] - ay2) * y[j]\n",
    "                \n",
    "            # 計算の効率化のために，ayとayxをi, jの変更による差分だけで更新\n",
    "            ay += y[i]*(ai - a[i]) + y[j]*(aj - a[j])\n",
    "            \n",
    "            # ai<0だったらai=0(ajも同様）にするのを繰り返し行うため，もしも前回と結果が一致していたらiterationを終了する\n",
    "            if ai == a[i]:\n",
    "                break\n",
    "            \n",
    "            a[i] = ai\n",
    "            a[j] = aj\n",
    "            \n",
    "        self.a_ = a\n",
    "        self.y_ = y\n",
    "        self.kernel_ = kernel\n",
    "        s = a != 0.\n",
    "        self.w0_ = (y[s]\n",
    "                    - np.dot(a[s]*y[s],\n",
    "                             kernel.eval(X[s], s))).sum() / s.sum()\n",
    "        with open('svm.log', 'w') as fp:\n",
    "            print(a, file=fp)\n",
    "            \n",
    "    def predict(self, X):\n",
    "        s = self.a_ != 0.\n",
    "        return np.sign(self.w0_\n",
    "                       + np.dot(self.a_[s]*self.y_[s],\n",
    "                                self.kernel_.eval(X, s)))"
   ]
  },
  {
   "cell_type": "code",
   "execution_count": 14,
   "metadata": {},
   "outputs": [],
   "source": [
    "def rbf_classify(seed, num, dim=2):\n",
    "    plt.axes().set_aspect('equal')\n",
    "    \n",
    "    # create random data\n",
    "    np.random.seed(seed)\n",
    "    X0 = np.random.randn(num, dim)\n",
    "    X1 = np.random.randn(num, dim) + np.array([2.5 + 0.5*i for i in range(dim)])\n",
    "    y = np.array([1] * num + [-1] * num)\n",
    "    \n",
    "    X = np.r_[X0, X1]\n",
    "\n",
    "    # define the model\n",
    "    model = KernelSVC()\n",
    "    model.fit(X, y)\n",
    "    \n",
    "    xmin, xmax = X[:, 0].min(), X[:, 0].max()\n",
    "    ymin, ymax = X[:, 1].min(), X[:, 1].max()\n",
    "    \n",
    "    # visualize the random data\n",
    "    plt.scatter(X0[:, 0], X0[:, 1], color='k', marker='+')\n",
    "    plt.scatter(X1[:, 0], X1[:, 1], color='k', marker='*')\n",
    "    \n",
    "    xmesh, ymesh = np.meshgrid(np.linspace(xmin, xmax, 200),\n",
    "                               np.linspace(ymin, ymax, 200))\n",
    "    Z = model.predict(np.c_[xmesh.ravel(),\n",
    "                            ymesh.ravel()]).reshape(xmesh.shape)\n",
    "    \n",
    "    plt.contour(xmesh, ymesh, Z, levels=[0], colors='k')\n",
    "\n",
    "    def f(model, x):\n",
    "        return (-model.w0_ - model.w_[0] * x) / model.w_[1]\n",
    "    \n",
    "    plt.show()"
   ]
  },
  {
   "cell_type": "code",
   "execution_count": 15,
   "metadata": {},
   "outputs": [
    {
     "data": {
      "image/png": "[encoded data removed]",
      "text/plain": [
       "<Figure size 432x288 with 1 Axes>"
      ]
     },
     "metadata": {
      "needs_background": "light"
     },
     "output_type": "display_data"
    }
   ],
   "source": [
    "rbf_classify(1, 100)"
   ]
  },
  {
   "cell_type": "code",
   "execution_count": 16,
   "metadata": {},
   "outputs": [
    {
     "data": {
      "image/png": "[encoded data removed]",
      "text/plain": [
       "<Figure size 432x288 with 1 Axes>"
      ]
     },
     "metadata": {
      "needs_background": "light"
     },
     "output_type": "display_data"
    }
   ],
   "source": [
    "rbf_classify(2, 100)"
   ]
  }
 ],
 "metadata": {
  "kernelspec": {
   "display_name": "Python 3",
   "language": "python",
   "name": "python3"
  },
  "language_info": {
   "codemirror_mode": {
    "name": "ipython",
    "version": 3
   },
   "file_extension": ".py",
   "mimetype": "text/x-python",
   "name": "python",
   "nbconvert_exporter": "python",
   "pygments_lexer": "ipython3",
   "version": "3.6.8"
  }
 },
 "nbformat": 4,
 "nbformat_minor": 2
}
