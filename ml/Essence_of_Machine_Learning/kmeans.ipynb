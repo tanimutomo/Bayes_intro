{
 "cells": [
  {
   "cell_type": "markdown",
   "metadata": {},
   "source": [
    "# Data Structure"
   ]
  },
  {
   "cell_type": "code",
   "execution_count": 1,
   "metadata": {},
   "outputs": [],
   "source": [
    "import numpy as np"
   ]
  },
  {
   "cell_type": "code",
   "execution_count": 2,
   "metadata": {},
   "outputs": [],
   "source": [
    "X = np.array([[1, 2],\n",
    "              [2, 3],\n",
    "              [3, 4],\n",
    "              [4, 5],\n",
    "              [5, 6],\n",
    "              [6, 7],\n",
    "              [7, 9]])"
   ]
  },
  {
   "cell_type": "code",
   "execution_count": 4,
   "metadata": {},
   "outputs": [],
   "source": [
    "labels = np.array([0, 1, 2, 0, 1, 2, 0])"
   ]
  },
  {
   "cell_type": "code",
   "execution_count": 5,
   "metadata": {},
   "outputs": [],
   "source": [
    "cluster_centers = np.array([[1, 2],\n",
    "                            [2, 2],\n",
    "                            [3, 3]])"
   ]
  },
  {
   "cell_type": "code",
   "execution_count": 6,
   "metadata": {},
   "outputs": [],
   "source": [
    "p = X[:, :, np.newaxis]\n",
    "q = cluster_centers.T[np.newaxis, :, :]\n",
    "r = (p - q)**2\n",
    "s = r.sum(axis=1)"
   ]
  },
  {
   "cell_type": "code",
   "execution_count": 15,
   "metadata": {},
   "outputs": [
    {
     "name": "stdout",
     "output_type": "stream",
     "text": [
      "(7, 2, 1)\n",
      "(1, 2, 3)\n",
      "(7, 2, 3)\n",
      "(7, 3)\n"
     ]
    }
   ],
   "source": [
    "print(p.shape)\n",
    "print(q.shape)\n",
    "print(r.shape)\n",
    "print(s.shape)"
   ]
  },
  {
   "cell_type": "markdown",
   "metadata": {},
   "source": [
    "# K-means"
   ]
  },
  {
   "cell_type": "code",
   "execution_count": 1,
   "metadata": {},
   "outputs": [],
   "source": [
    "import numpy as np\n",
    "import itertools\n",
    "import matplotlib.pyplot as plt"
   ]
  },
  {
   "cell_type": "code",
   "execution_count": 2,
   "metadata": {},
   "outputs": [],
   "source": [
    "class KMeans:\n",
    "    def __init__(self, n_clusters, max_iter=1000, random_seed=0):\n",
    "        self.n_clusters = n_clusters\n",
    "        self.max_iter = max_iter\n",
    "        # アルゴリズム内で乱数を指定しているため，それをseedで固定している\n",
    "        self.random_state = np.random.RandomState(random_seed)\n",
    "        \n",
    "    def fit(self, X):\n",
    "        # 所属するクラスタの初期値を設定\n",
    "        cycle = itertools.cycle(range(self.n_clusters))\n",
    "        self.labels_ = np.fromiter(itertools.islice(cycle, X.shape[0]), dtype=np.int)\n",
    "        self.random_state.shuffle(self.labels_)\n",
    "        \n",
    "        labels_prev = np.zeros(X.shape[0])\n",
    "        count = 0\n",
    "        self.cluster_centers_ = np.zeros((self.n_clusters, X.shape[1]))\n",
    "        \n",
    "        # main iteration\n",
    "        while (not (self.labels_ == labels_prev).all()\n",
    "                    and count < self.max_iter):\n",
    "\n",
    "            # 全クラスタについて以下の計算を実行\n",
    "            for i in range(self.n_clusters):\n",
    "                # クラスタ中心を計算\n",
    "                XX = X[self.labels_ == i, :]\n",
    "                self.cluster_centers_[i, :] = XX.mean(axis=0)\n",
    "                \n",
    "            # 各点とクラスタ中心の距離を計算 \n",
    "            dist = ((X[:, :, np.newaxis]\n",
    "                     - self.cluster_centers_.T[np.newaxis, :, :])\n",
    "                    ** 2).sum(axis=1)\n",
    "            labels_prev = self.labels_\n",
    "            self.labels_ = dist.argmin(axis=1)\n",
    "            count += 1\n",
    "            \n",
    "    def predict(self, X):\n",
    "        dist = ((X[:, :, np.axis]\n",
    "                 - self.cluster_centers_.T[np.newaxis, :, :])\n",
    "                ** 2).sum(axis=1)\n",
    "        self.labels_ = dist.argmin(axis=1)\n",
    "        return labels"
   ]
  },
  {
   "cell_type": "code",
   "execution_count": 3,
   "metadata": {},
   "outputs": [],
   "source": [
    "def flatten(nested_list):\n",
    "    \"\"\"2重のリストをフラットにする関数\"\"\"\n",
    "    return [e for inner_list in nested_list for e in inner_list]\n",
    "#ex: color = flatten([['r', 'g', 'b', 'c', 'm', 'y'] for _ in range(100)])"
   ]
  },
  {
   "cell_type": "code",
   "execution_count": 45,
   "metadata": {},
   "outputs": [],
   "source": [
    "def kmeans_classify(num_clusters, num_data=50, dims=2, seed=0):\n",
    "    # create the random data for training\n",
    "    points = []\n",
    "    for c in range(num_clusters):\n",
    "        rand = np.random.randn(dims) * num_clusters * 2\n",
    "        points.append(np.random.randn(num_data, dims) + rand)\n",
    "    points = np.concatenate(points, axis=0)\n",
    "    np.random.shuffle(points)\n",
    "    \n",
    "    # define the model and training\n",
    "    model = KMeans(num_clusters)\n",
    "    model.fit(points)\n",
    "\n",
    "    # visualiation\n",
    "    if dims == 2:\n",
    "        markers = flatten([['+', '*', 'o', '.', 'x', 'p', 'v', '^', '<', '>', 's'] for _ in range(100)])\n",
    "        markers = markers[:num_clusters]\n",
    "\n",
    "        for idx, marker in enumerate(markers):\n",
    "            p = points[model.labels_ == idx, :]\n",
    "            plt.scatter(p[:, 0], p[:, 1], color='k', marker=marker)\n",
    "\n",
    "        plt.show()"
   ]
  },
  {
   "cell_type": "code",
   "execution_count": 50,
   "metadata": {},
   "outputs": [
    {
     "data": {
      "image/png": "[encoded data removed]",
      "text/plain": [
       "<Figure size 432x288 with 1 Axes>"
      ]
     },
     "metadata": {
      "needs_background": "light"
     },
     "output_type": "display_data"
    }
   ],
   "source": [
    "kmeans_classify(4, 100)"
   ]
  },
  {
   "cell_type": "code",
   "execution_count": null,
   "metadata": {},
   "outputs": [],
   "source": []
  }
 ],
 "metadata": {
  "kernelspec": {
   "display_name": "Python 3",
   "language": "python",
   "name": "python3"
  },
  "language_info": {
   "codemirror_mode": {
    "name": "ipython",
    "version": 3
   },
   "file_extension": ".py",
   "mimetype": "text/x-python",
   "name": "python",
   "nbconvert_exporter": "python",
   "pygments_lexer": "ipython3",
   "version": "3.6.8"
  }
 },
 "nbformat": 4,
 "nbformat_minor": 2
}
